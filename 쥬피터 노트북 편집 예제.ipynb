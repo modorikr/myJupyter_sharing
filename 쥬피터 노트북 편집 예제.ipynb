{
 "cells": [
  {
   "cell_type": "markdown",
   "metadata": {},
   "source": [
    "# 큰 헤딩은 샵하나\n",
    "## 두번째 사이즈 헤딩0\n",
    "### 세번째 사이즈 헤딩 (단축키 설명)\n",
    "가장 기본 \"Shift + Enter\" : Run Cell\n",
    "\n",
    "**별표 두개를 사이에 집이넣으면**\n",
    "\n",
    "별표 두개를 안넣으면\n",
    "\n",
    "**앞에 두개에만 별표를 집어넣으면\n",
    "그 다음 별표가\n",
    "나올때까지 계속\n",
    "볼딕이 유지됨** \n",
    "\n",
    "**결국 그 사이 내용을은 다 한줄 처리**\n",
    "\n",
    "헤딩 사이에 보기좋게 편집하기위해서는 마크 다운 하나에 다 작성하는것 보단 아래처럼 스플릿을 하고 인서트 비로우를 해서 작성하면 더 깔끔한 \n",
    "\n",
    "\"Shift+Ctrl+-\": 셀 스플릿 단축키 **(커멘드 모드에서는 안됨. 편집모드에서만 할수 있음)**\n",
    "\n",
    "\"ESC\" 눌러서 커멘드 모드 들어가서 \"B\"를 누리면 인서트 비로우! \"A\" 누리면 인서트 어보브. \"B\"를 사용할일이 많음."
   ]
  },
  {
   "cell_type": "markdown",
   "metadata": {},
   "source": [
    "참고로 \"ESC\"로 커멘드 모드 들어가 \"H\"를 누르면 모든 단축키 확인 가능"
   ]
  },
  {
   "cell_type": "markdown",
   "metadata": {},
   "source": [
    "지금 이라인은 인서트 비로우로 생성 되었음"
   ]
  },
  {
   "cell_type": "markdown",
   "metadata": {},
   "source": [
    "커맨드 모드에서 코드셀로 돌아오는법은 엔터를 치면 됨.\n",
    "\n",
    "그외 커멘드 모드에서 자주 사용할것 같은 숏컷\n",
    "D 1초 이후 D : 라인지우기\n",
    "C: 복사\n",
    "V: 아래로 붙여넣기, Shift+V: 위로 붙요넣기  "
   ]
  },
  {
   "cell_type": "markdown",
   "metadata": {},
   "source": [
    "====== **지금 이셀은 아래로 붙여넣기로 만들어 졌음. 윗셀이랑 내용동일** ========\n",
    "\n",
    "\n",
    "커맨드 모드에서 코드셀로 돌아오는법은 엔터를 치면 됨.\n",
    "\n",
    "그외 커멘드 모드에서 자주 사용할것 같은 숏컷\n",
    "D 1초 이후 D : 라인지우기\n",
    "C: 복사\n",
    "V: 아래로 붙여넣기, Shift+V: 위로 붙요넣기\n",
    "\n",
    "\n",
    "==========================================**"
   ]
  },
  {
   "cell_type": "markdown",
   "metadata": {},
   "source": [
    "**코드에서 마크다운으로 바꾸는 단축키: ESC 로 커멘드 모드 들어간 후에 m: MarkDown, y:Code mode**"
   ]
  },
  {
   "cell_type": "markdown",
   "metadata": {},
   "source": [
    "**편집으로 들어가기: m: MarkDown, y:Code mode 로 모드 선택후 Enter 치면됨**"
   ]
  },
  {
   "cell_type": "markdown",
   "metadata": {},
   "source": [
    "**커멘드 모드에서 S 혹은 Shift+S 는 저장 및 체크 포인트**"
   ]
  },
  {
   "cell_type": "markdown",
   "metadata": {},
   "source": [
    "**커맨드 모드에서 \"Shift+M\" 은 셀간 병합**"
   ]
  },
  {
   "cell_type": "code",
   "execution_count": null,
   "metadata": {},
   "outputs": [],
   "source": []
  },
  {
   "cell_type": "markdown",
   "metadata": {},
   "source": [
    "지금까지 작성시 한셀에는 한개 라인 최대 두개이상을 올리는것은 좋아 보이지 않음. 모든 라인을 간략히 정리에 한가지 내용은 한줄 혹은 두줄 작성이 좋은 듯 함."
   ]
  },
  {
   "cell_type": "markdown",
   "metadata": {},
   "source": [
    "## 두번째 사이즈 헤딩2 (Live Code Example)"
   ]
  },
  {
   "cell_type": "code",
   "execution_count": 3,
   "metadata": {},
   "outputs": [
    {
     "data": {
      "text/plain": [
       "7"
      ]
     },
     "execution_count": 3,
     "metadata": {},
     "output_type": "execute_result"
    }
   ],
   "source": [
    "3+4"
   ]
  },
  {
   "cell_type": "code",
   "execution_count": 13,
   "metadata": {},
   "outputs": [],
   "source": [
    "# define add functoin - Text는 Comment가 Code모드에서도 가능하다. 이후 계발 코드 코멘트시 사용하기 적합\n",
    "def add (a,b):\n",
    "    return a+B"
   ]
  },
  {
   "cell_type": "code",
   "execution_count": null,
   "metadata": {},
   "outputs": [],
   "source": []
  },
  {
   "cell_type": "markdown",
   "metadata": {},
   "source": [
    "## 두번째 사이즈 헤딩2\n",
    "### 세번째 사이즈 헤딩1\n",
    "### 세번째 사이즈 헤딩2\n",
    "### 세번째 사이즈 헤딩3\n",
    "## 두번째 사이즈 헤딩3\n",
    "### 세번째 사이즈 헤딩4 (수식 편집 예제)\n",
    "### 여기엔 무엇을 넣지?"
   ]
  },
  {
   "cell_type": "code",
   "execution_count": null,
   "metadata": {},
   "outputs": [],
   "source": []
  }
 ],
 "metadata": {
  "kernelspec": {
   "display_name": "Python 3",
   "language": "python",
   "name": "python3"
  },
  "language_info": {
   "codemirror_mode": {
    "name": "ipython",
    "version": 3
   },
   "file_extension": ".py",
   "mimetype": "text/x-python",
   "name": "python",
   "nbconvert_exporter": "python",
   "pygments_lexer": "ipython3",
   "version": "3.7.4"
  }
 },
 "nbformat": 4,
 "nbformat_minor": 2
}
