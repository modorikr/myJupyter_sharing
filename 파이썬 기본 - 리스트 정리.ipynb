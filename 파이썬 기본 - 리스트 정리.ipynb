{
 "cells": [
  {
   "cell_type": "code",
   "execution_count": 2,
   "metadata": {},
   "outputs": [
    {
     "name": "stdout",
     "output_type": "stream",
     "text": [
      "Hello Juputer on Anaconda\n"
     ]
    }
   ],
   "source": [
    "print(\"Hello Juputer on Anaconda\")"
   ]
  },
  {
   "cell_type": "markdown",
   "metadata": {},
   "source": [
    "### 리스트 만들기"
   ]
  },
  {
   "cell_type": "code",
   "execution_count": 3,
   "metadata": {},
   "outputs": [
    {
     "name": "stdout",
     "output_type": "stream",
     "text": [
      "['The Holy Grail', 'The Life of Brian', 'The Meaning of Life']\n",
      "['The Holy Grail', 'The Life of Brian', 'The Meaning of Life']\n"
     ]
    }
   ],
   "source": [
    "#파이썬에서의 배열은 #0,#1,#2 순서로 정리됨\n",
    "movies=[\"The Holy Grail\",\n",
    "       \"The Life of Brian\", \"The Meaning of Life\"]\n",
    "print(movies)\n",
    "\n",
    "print(movies)"
   ]
  },
  {
   "cell_type": "code",
   "execution_count": 4,
   "metadata": {
    "scrolled": true
   },
   "outputs": [
    {
     "name": "stdout",
     "output_type": "stream",
     "text": [
      "The Life of Brian\n",
      "The Holy Grail\n"
     ]
    }
   ],
   "source": [
    "print(movies[1])\n",
    "print(movies[0])"
   ]
  },
  {
   "cell_type": "markdown",
   "metadata": {},
   "source": [
    "#### 파이썬의 리스트 간단한 메서드 둘러보기\n",
    "\n",
    "**len** 길이 함수"
   ]
  },
  {
   "cell_type": "code",
   "execution_count": 5,
   "metadata": {},
   "outputs": [
    {
     "name": "stdout",
     "output_type": "stream",
     "text": [
      "['Cleese', 'Palin', 'Jones', 'Idle']\n"
     ]
    }
   ],
   "source": [
    "cast = [\"Cleese\", 'Palin','Jones','Idle']\n",
    "print(cast)"
   ]
  },
  {
   "cell_type": "code",
   "execution_count": 6,
   "metadata": {},
   "outputs": [
    {
     "name": "stdout",
     "output_type": "stream",
     "text": [
      "4\n"
     ]
    }
   ],
   "source": [
    "print(len(cast))"
   ]
  },
  {
   "cell_type": "code",
   "execution_count": 7,
   "metadata": {},
   "outputs": [
    {
     "name": "stdout",
     "output_type": "stream",
     "text": [
      "Palin\n"
     ]
    },
    {
     "data": {
      "text/plain": [
       "4"
      ]
     },
     "execution_count": 7,
     "metadata": {},
     "output_type": "execute_result"
    }
   ],
   "source": [
    "print(cast[1])\n",
    "len(cast)"
   ]
  },
  {
   "cell_type": "markdown",
   "metadata": {},
   "source": [
    "**Append**를 이용해 맨뒤에 데이터 항목을 추가 할 수 있다.\n",
    "\n",
    "**Pop**은 리스트 제일 마지막 항목을 삭제\n",
    "\n",
    "**extend()** 여러 데이터 항목들을 제일 뒤에 추가 할 수 있다."
   ]
  },
  {
   "cell_type": "code",
   "execution_count": 8,
   "metadata": {},
   "outputs": [
    {
     "name": "stdout",
     "output_type": "stream",
     "text": [
      "['Cleese', 'Palin', 'Jones', 'Idle', 'Gilliam']\n"
     ]
    }
   ],
   "source": [
    "cast.append(\"Gilliam\")\n",
    "print(cast)"
   ]
  },
  {
   "cell_type": "code",
   "execution_count": 9,
   "metadata": {},
   "outputs": [
    {
     "data": {
      "text/plain": [
       "'Gilliam'"
      ]
     },
     "execution_count": 9,
     "metadata": {},
     "output_type": "execute_result"
    }
   ],
   "source": [
    "cast.pop()"
   ]
  },
  {
   "cell_type": "code",
   "execution_count": 10,
   "metadata": {},
   "outputs": [
    {
     "data": {
      "text/plain": [
       "['Cleese', 'Palin', 'Jones', 'Idle']"
      ]
     },
     "execution_count": 10,
     "metadata": {},
     "output_type": "execute_result"
    }
   ],
   "source": [
    "cast"
   ]
  },
  {
   "cell_type": "code",
   "execution_count": 11,
   "metadata": {},
   "outputs": [
    {
     "data": {
      "text/plain": [
       "['Cleese', 'Palin', 'Jones', 'Idle', 'Gilliam', 'Chapman']"
      ]
     },
     "execution_count": 11,
     "metadata": {},
     "output_type": "execute_result"
    }
   ],
   "source": [
    "cast.extend([\"Gilliam\",\"Chapman\"])\n",
    "cast"
   ]
  },
  {
   "cell_type": "markdown",
   "metadata": {},
   "source": [
    "**Remove()** 메서드로 특정 데이터 항목을 검색해 제거 가능\n",
    "\n",
    "**Insert()** 메서드로 특정 데이터 항목 앞에 데어터 추가도 가능"
   ]
  },
  {
   "cell_type": "code",
   "execution_count": 12,
   "metadata": {},
   "outputs": [],
   "source": [
    "cast.remove(\"Chapman\")"
   ]
  },
  {
   "cell_type": "code",
   "execution_count": 13,
   "metadata": {},
   "outputs": [
    {
     "name": "stdout",
     "output_type": "stream",
     "text": [
      "['Cleese', 'Palin', 'Jones', 'Idle', 'Gilliam']\n"
     ]
    }
   ],
   "source": [
    "print(cast\n",
    "     )"
   ]
  },
  {
   "cell_type": "code",
   "execution_count": 14,
   "metadata": {},
   "outputs": [
    {
     "data": {
      "text/plain": [
       "['Chapman', 'Cleese', 'Palin', 'Jones', 'Idle', 'Gilliam']"
      ]
     },
     "execution_count": 14,
     "metadata": {},
     "output_type": "execute_result"
    }
   ],
   "source": [
    "cast.insert(0, 'Chapman')\n",
    "cast"
   ]
  },
  {
   "cell_type": "markdown",
   "metadata": {},
   "source": [
    "### 예제 실습\n",
    "기존 Movie 리스트에 년도를 삽입해보자"
   ]
  },
  {
   "cell_type": "code",
   "execution_count": 15,
   "metadata": {},
   "outputs": [
    {
     "name": "stdout",
     "output_type": "stream",
     "text": [
      "['The Holy Grail', 'The Life of Brian', 'The Meaning of Life', '1983']\n"
     ]
    }
   ],
   "source": [
    "# 삽입으로 만든 경우\n",
    "movies.append('1983')\n",
    "print(movies)"
   ]
  },
  {
   "cell_type": "code",
   "execution_count": 16,
   "metadata": {},
   "outputs": [
    {
     "data": {
      "text/plain": [
       "['The Holy Grail', '1975', 'The Life of Brian', 'The Meaning of Life', '1983']"
      ]
     },
     "execution_count": 16,
     "metadata": {},
     "output_type": "execute_result"
    }
   ],
   "source": [
    "movies.insert(1,'1975')\n",
    "movies"
   ]
  },
  {
   "cell_type": "code",
   "execution_count": 17,
   "metadata": {},
   "outputs": [
    {
     "data": {
      "text/plain": [
       "['The Holy Grail',\n",
       " '1975',\n",
       " 'The Life of Brian',\n",
       " '1979',\n",
       " 'The Meaning of Life',\n",
       " '1983']"
      ]
     },
     "execution_count": 17,
     "metadata": {},
     "output_type": "execute_result"
    }
   ],
   "source": [
    "movies.insert(3,'1979')\n",
    "movies"
   ]
  },
  {
   "cell_type": "markdown",
   "metadata": {},
   "source": [
    "위 경우 실수로 Insert 코드를 여러번 실행해서 1979 데이터가 많이 추가 되었다.\n"
   ]
  },
  {
   "cell_type": "code",
   "execution_count": 34,
   "metadata": {},
   "outputs": [
    {
     "data": {
      "text/plain": [
       "['The Life of Brian',\n",
       " 'The Meaning of Life',\n",
       " '1979',\n",
       " 'The Holy Grail',\n",
       " '1975',\n",
       " '1983']"
      ]
     },
     "execution_count": 34,
     "metadata": {},
     "output_type": "execute_result"
    }
   ],
   "source": [
    "movies = list(set(movies))\n",
    "movies"
   ]
  },
  {
   "cell_type": "code",
   "execution_count": 18,
   "metadata": {},
   "outputs": [],
   "source": [
    "# 이후 작성 예정"
   ]
  },
  {
   "cell_type": "markdown",
   "metadata": {},
   "source": [
    "# For 반복문을 통한 반복 출력"
   ]
  },
  {
   "cell_type": "code",
   "execution_count": 20,
   "metadata": {},
   "outputs": [
    {
     "name": "stdout",
     "output_type": "stream",
     "text": [
      "The Holy Grail\n",
      "The Life of Brian\n"
     ]
    }
   ],
   "source": [
    "fav_movies = [\"The Holy Grail\", \"The Life of Brian\"]\n",
    "\n",
    "for each_flick in fav_movies:\n",
    "    print(each_flick)"
   ]
  },
  {
   "cell_type": "code",
   "execution_count": null,
   "metadata": {},
   "outputs": [],
   "source": []
  },
  {
   "cell_type": "markdown",
   "metadata": {},
   "source": []
  },
  {
   "cell_type": "markdown",
   "metadata": {},
   "source": [
    "## 문법 정리\n",
    "### For 타깃 식별자 in 리스트\n",
    "#### 리스트 처리코드\n",
    "\n",
    "아래 들여쓰기 부분을 **Suite** 라고 부릅니다.\n",
    "위 구문은 List 의 첫번째 항목부터 마지막 항목까지 값을 대입해가며 아래 들여쓰기 \"Sutie\" 를 실행해갑니다."
   ]
  },
  {
   "cell_type": "markdown",
   "metadata": {},
   "source": [
    "## While 루프도 비슷한 용도로 사용합니다."
   ]
  },
  {
   "cell_type": "code",
   "execution_count": 22,
   "metadata": {},
   "outputs": [
    {
     "name": "stdout",
     "output_type": "stream",
     "text": [
      "The Holy Grail\n",
      "1975\n",
      "The Life of Brian\n",
      "1979\n",
      "The Meaning of Life\n",
      "1983\n"
     ]
    }
   ],
   "source": [
    "count = 0\n",
    "while count < len(movies):\n",
    "    print(movies[count])\n",
    "    count = count+1"
   ]
  },
  {
   "cell_type": "code",
   "execution_count": null,
   "metadata": {},
   "outputs": [],
   "source": []
  }
 ],
 "metadata": {
  "kernelspec": {
   "display_name": "Python 3",
   "language": "python",
   "name": "python3"
  },
  "language_info": {
   "codemirror_mode": {
    "name": "ipython",
    "version": 3
   },
   "file_extension": ".py",
   "mimetype": "text/x-python",
   "name": "python",
   "nbconvert_exporter": "python",
   "pygments_lexer": "ipython3",
   "version": "3.7.4"
  }
 },
 "nbformat": 4,
 "nbformat_minor": 2
}
